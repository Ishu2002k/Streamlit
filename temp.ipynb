{
 "cells": [
  {
   "cell_type": "code",
   "execution_count": 44,
   "id": "bb77bc9c",
   "metadata": {},
   "outputs": [],
   "source": [
    "import sqlitecloud \n",
    "from dotenv import load_dotenv\n",
    "import os\n",
    "\n",
    "load_dotenv()\n",
    "db_path = os.getenv(\"DATABASE_CONNECTION_STRING\")"
   ]
  },
  {
   "cell_type": "code",
   "execution_count": 45,
   "id": "7eb72360",
   "metadata": {},
   "outputs": [
    {
     "data": {
      "text/plain": [
       "<sqlitecloud.dbapi2.Connection at 0x13b75c7bed0>"
      ]
     },
     "execution_count": 45,
     "metadata": {},
     "output_type": "execute_result"
    }
   ],
   "source": [
    "conn = sqlitecloud.connect(db_path)\n",
    "conn"
   ]
  },
  {
   "cell_type": "code",
   "execution_count": 46,
   "id": "2e5e4b67",
   "metadata": {},
   "outputs": [
    {
     "data": {
      "text/plain": [
       "<sqlitecloud.dbapi2.Cursor at 0x13b75c7bb10>"
      ]
     },
     "execution_count": 46,
     "metadata": {},
     "output_type": "execute_result"
    }
   ],
   "source": [
    "cursor = conn.cursor()\n",
    "cursor"
   ]
  },
  {
   "cell_type": "code",
   "execution_count": 47,
   "id": "6ccba9db",
   "metadata": {},
   "outputs": [
    {
     "data": {
      "text/plain": [
       "<sqlitecloud.dbapi2.Cursor at 0x13b75c7bb10>"
      ]
     },
     "execution_count": 47,
     "metadata": {},
     "output_type": "execute_result"
    }
   ],
   "source": [
    "cursor.execute(\"SELECT name FROM sqlite_master WHERE type='table';\")"
   ]
  },
  {
   "cell_type": "code",
   "execution_count": 48,
   "id": "c5d416f6",
   "metadata": {},
   "outputs": [],
   "source": [
    "tables = [rows[0] for rows in cursor.fetchall()]"
   ]
  },
  {
   "cell_type": "code",
   "execution_count": null,
   "id": "f5680089",
   "metadata": {},
   "outputs": [],
   "source": []
  },
  {
   "cell_type": "code",
   "execution_count": 55,
   "id": "9c871cdd",
   "metadata": {},
   "outputs": [
    {
     "name": "stdout",
     "output_type": "stream",
     "text": [
      "[(0, 'name', '', 0, None, 0), (1, 'seq', '', 0, None, 0)]\n",
      "[(0, 'tblname', 'TEXT', 0, None, 1), (1, 'colname', 'TEXT', 0, None, 2), (2, 'key', 'TEXT', 0, None, 3), (3, 'value', 'ANY', 0, None, 0)]\n",
      "[(0, 'Order_ID', 'TEXT', 0, None, 0), (1, 'Person_ID', 'TEXT', 0, None, 0), (2, 'Order_Date', 'TEXT', 0, None, 0), (3, 'Amount', 'INTEGER', 0, None, 0)]\n",
      "[(0, 'Person_ID', 'TEXT', 0, None, 0), (1, 'Person_Name', 'TEXT', 0, None, 0), (2, 'Region', 'TEXT', 0, None, 0)]\n",
      "[(0, 'Return_ID', 'TEXT', 0, None, 0), (1, 'Order_ID', 'TEXT', 0, None, 0), (2, 'Return_Reason', 'TEXT', 0, None, 0)]\n"
     ]
    }
   ],
   "source": [
    "for table in tables:\n",
    "    cursor.execute(f\"PRAGMA table_info({table})\")\n",
    "    temp = cursor.fetchall()\n",
    "    print(temp) \n",
    "    # cursor.execute(f\"SELECT * FROM {table}\")\n",
    "    # rows = cursor.fetchall()\n",
    "    # # print(rows)\n",
    "    # for i,row in enumerate(rows):\n",
    "    #     if(i == 5):\n",
    "    #         break\n",
    "    #     print(row)\n"
   ]
  },
  {
   "cell_type": "code",
   "execution_count": null,
   "id": "6c4dc9fd",
   "metadata": {},
   "outputs": [],
   "source": []
  }
 ],
 "metadata": {
  "kernelspec": {
   "display_name": "Python 3",
   "language": "python",
   "name": "python3"
  },
  "language_info": {
   "codemirror_mode": {
    "name": "ipython",
    "version": 3
   },
   "file_extension": ".py",
   "mimetype": "text/x-python",
   "name": "python",
   "nbconvert_exporter": "python",
   "pygments_lexer": "ipython3",
   "version": "3.13.5"
  }
 },
 "nbformat": 4,
 "nbformat_minor": 5
}
